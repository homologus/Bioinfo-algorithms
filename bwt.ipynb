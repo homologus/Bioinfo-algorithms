{
  "nbformat": 4,
  "nbformat_minor": 0,
  "metadata": {
    "colab": {
      "name": "bwt.ipynb",
      "provenance": [],
      "authorship_tag": "ABX9TyP6rLQNRTSgDB1fzrY00hwY",
      "include_colab_link": true
    },
    "kernelspec": {
      "name": "python3",
      "display_name": "Python 3"
    }
  },
  "cells": [
    {
      "cell_type": "markdown",
      "metadata": {
        "id": "view-in-github",
        "colab_type": "text"
      },
      "source": [
        "<a href=\"https://colab.research.google.com/github/homologus/Bioinfo-algorithms/blob/master/bwt.ipynb\" target=\"_parent\"><img src=\"https://colab.research.google.com/assets/colab-badge.svg\" alt=\"Open In Colab\"/></a>"
      ]
    },
    {
      "cell_type": "markdown",
      "metadata": {
        "id": "8c2FQU9uqyh6",
        "colab_type": "text"
      },
      "source": [
        "The Burrows–Wheeler transform (BWT, also called block-sorting compression) rearranges a character string into runs of similar characters.\n",
        "\n",
        "This is useful for compression, since it tends to be easy to compress a string that has runs of repeated characters by techniques such as move-to-front transform and run-length encoding.\n",
        "\n",
        "More importantly, the transformation is reversible, without needing to store any additional data.\n",
        "\n",
        "The BWT is thus a \"free\" method of improving the efficiency of text compression algorithms, costing only some extra computation."
      ]
    },
    {
      "cell_type": "code",
      "metadata": {
        "id": "NLbu7jGGqRaD",
        "colab_type": "code",
        "colab": {
          "base_uri": "https://localhost:8080/",
          "height": 34
        },
        "outputId": "584b8210-612c-4665-ffae-ae404ec6bfda"
      },
      "source": [
        "\n",
        "import copy\n",
        "\n",
        "converted_word = \"ANBESTI$AS\"\n",
        "new_list = []\n",
        "characters = [i for i in converted_word]\n",
        "sort = copy.deepcopy(characters)\n",
        "sort.sort()\n",
        "\n",
        "for i in range(len(converted_word)):\n",
        "  new_list.append(characters[i]+sort[i])\n",
        "new_list.sort()\n",
        "for j in range(len(converted_word)-2):\n",
        "  for i in range(len(converted_word)):\n",
        "    new_list.append(characters[i] + new_list[i])\n",
        "  new_list = new_list[len(converted_word):]\n",
        "  new_list.sort()\n",
        "print(new_list[0][1:])"
      ],
      "execution_count": 1,
      "outputs": [
        {
          "output_type": "stream",
          "text": [
            "SEBASTINA\n"
          ],
          "name": "stdout"
        }
      ]
    }
  ]
}