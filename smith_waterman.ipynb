{
  "nbformat": 4,
  "nbformat_minor": 0,
  "metadata": {
    "colab": {
      "name": "smith_waterman.ipynb",
      "provenance": [],
      "collapsed_sections": [],
      "authorship_tag": "ABX9TyPr31Ik+o8J4745utz+ohiU",
      "include_colab_link": true
    },
    "kernelspec": {
      "name": "python3",
      "display_name": "Python 3"
    }
  },
  "cells": [
    {
      "cell_type": "markdown",
      "metadata": {
        "id": "view-in-github",
        "colab_type": "text"
      },
      "source": [
        "<a href=\"https://colab.research.google.com/github/homologus/Bioinfo-algorithms/blob/master/smith_waterman.ipynb\" target=\"_parent\"><img src=\"https://colab.research.google.com/assets/colab-badge.svg\" alt=\"Open In Colab\"/></a>"
      ]
    },
    {
      "cell_type": "code",
      "metadata": {
        "id": "3zWMYFqB-t_p",
        "colab_type": "code",
        "colab": {
          "base_uri": "https://localhost:8080/",
          "height": 53
        },
        "outputId": "4cd235a0-abd9-458d-cc78-23756cf8c6e2"
      },
      "source": [
        "import numpy as np\n",
        "W = -4\n",
        "seq1 = \"CGTGAATTCAT\"\n",
        "seq2 = \"GACTTAC\"\n",
        "def matrix_initialization(seq1, seq2):\n",
        "  seq1 = list(seq1)\n",
        "  seq1.insert(0, \"-\")\n",
        "  seq1.insert(0, \"-\")\n",
        "  line2 = [\"-\"]\n",
        "  for i in range(len(seq1)-1):\n",
        "    line2.append(0)\n",
        "  lists = [[] for i in range(len(seq2))]  \n",
        "  for i in range(len(seq2)):\n",
        "    lists[i].append(seq2[i])\n",
        "    lists[i].append(0)\n",
        "    for x in range(len(seq1)-2):\n",
        "      lists[i].append(\"-\")\n",
        "  matrix = ([seq1, line2,])\n",
        "  for i in range(len(seq2)):\n",
        "    matrix.append(lists[i])\n",
        "  return(matrix)\n",
        "def scored(a, b):\n",
        "  if a != \"-\" or b!= \"-\":\n",
        "    if a == b:\n",
        "      return(5)\n",
        "    elif a!=b:\n",
        "      return(-3)\n",
        "  else:\n",
        "    return(-4)\n",
        "def filling():\n",
        "  a = matrix_initialization(seq1, seq2)\n",
        "  for i in range(2, len(seq2)+2):\n",
        "    for j in range(2, len(seq1)+2):\n",
        "      a[i][j] = max(a[i-1][j-1] + scored(a[0][j], a[i][0]), a[i][j-1] + W, a[i-1][j] +W, 0)\n",
        "\n",
        "  for i in a:\n",
        "    print(i)\n",
        "    print(\"\\n\")\n",
        "  return a\n",
        "'''\n",
        "def best_alignment():\n",
        "  a = filling()\n",
        "  numbs = []\n",
        "  for i in range(1, len(seq2)+2):\n",
        "    for j in range(1, len(seq1) + 2):\n",
        "      numbs.append(a[i][j])\n",
        "  print(numbs)\n",
        "best_alignment()\n",
        "'''\n",
        "#this is my matrix(i'm not sure if it is good but it is finished)\n",
        "#do best alignment now"
      ],
      "execution_count": null,
      "outputs": [
        {
          "output_type": "execute_result",
          "data": {
            "application/vnd.google.colaboratory.intrinsic": {
              "type": "string"
            },
            "text/plain": [
              "'\\ndef best_alignment():\\n  a = filling()\\n  numbs = []\\n  for i in range(1, len(seq2)+2):\\n    for j in range(1, len(seq1) + 2):\\n      numbs.append(a[i][j])\\n  print(numbs)\\nbest_alignment()\\n'"
            ]
          },
          "metadata": {
            "tags": []
          },
          "execution_count": 56
        }
      ]
    },
    {
      "cell_type": "code",
      "metadata": {
        "id": "F58fM_NNAJby",
        "colab_type": "code",
        "colab": {}
      },
      "source": [
        ""
      ],
      "execution_count": null,
      "outputs": []
    },
    {
      "cell_type": "markdown",
      "metadata": {
        "id": "94JzEJ0TCpO9",
        "colab_type": "text"
      },
      "source": [
        "im trying to do matrices for the smith-waterman algorithm"
      ]
    }
  ]
}