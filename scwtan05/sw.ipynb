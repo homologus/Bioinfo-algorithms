{
  "nbformat": 4,
  "nbformat_minor": 0,
  "metadata": {
    "colab": {
      "name": "sw.ipynb",
      "provenance": [],
      "include_colab_link": true
    },
    "kernelspec": {
      "name": "python3",
      "display_name": "Python 3"
    }
  },
  "cells": [
    {
      "cell_type": "markdown",
      "metadata": {
        "id": "view-in-github",
        "colab_type": "text"
      },
      "source": [
        "<a href=\"https://colab.research.google.com/github/homologus/Bioinfo-algorithms/blob/master/sw.ipynb\" target=\"_parent\"><img src=\"https://colab.research.google.com/assets/colab-badge.svg\" alt=\"Open In Colab\"/></a>"
      ]
    },
    {
      "cell_type": "markdown",
      "metadata": {
        "id": "70XWGlhitKT6",
        "colab_type": "text"
      },
      "source": [
        "The Smith–Waterman algorithm performs local sequence alignment; that is, for determining similar regions between two strings of nucleic acid sequences or protein sequences. Instead of looking at the entire sequence, the Smith–Waterman algorithm compares segments of all possible lengths and optimizes the similarity measure."
      ]
    },
    {
      "cell_type": "code",
      "metadata": {
        "id": "S-xAEnTOsSI7",
        "colab_type": "code",
        "colab": {
          "base_uri": "https://localhost:8080/",
          "height": 340
        },
        "outputId": "f74b03c2-b20d-4819-ac3d-141cf0dc42b2"
      },
      "source": [
        "W = -4\n",
        "seq1 = \"CGTGAATTCAT\"\n",
        "seq2 = \"GACTTAC\"\n",
        "\n",
        "#creates the initial matrix without anything inside\n",
        "def matrix_initialization(seq1, seq2):\n",
        "    seq1 = list(seq1)\n",
        "    seq1.insert(0, \"-\")\n",
        "    seq1.insert(0, \"-\")\n",
        "    line2 = [\"-\"]\n",
        "    for i in range(len(seq1) - 1):\n",
        "        line2.append(0)\n",
        "    lists = [[] for i in range(len(seq2))]\n",
        "    for i in range(len(seq2)):\n",
        "        lists[i].append(seq2[i])\n",
        "        lists[i].append(0)\n",
        "        for x in range(len(seq1) - 2):\n",
        "            lists[i].append(\"-\")\n",
        "    matrix = ([seq1,line2, ])\n",
        "    for i in range(len(seq2)):\n",
        "        matrix.append(lists[i])\n",
        "    return (matrix)\n",
        "#scores the matrix\n",
        "def scored(a, b):\n",
        "    if a != \"-\" or b != \"-\":\n",
        "        if a == b:\n",
        "            return (5)\n",
        "        elif a != b:\n",
        "            return (-3)\n",
        "    else:\n",
        "        return (-4)\n",
        "#fills up the entire matrix with numbers\n",
        "def filling():\n",
        "    a = matrix_initialization(seq1, seq2)\n",
        "    highest = 0\n",
        "    for i in range(2, len(seq2) + 2):\n",
        "        for j in range(2, len(seq1) + 2):\n",
        "            a[i][j] = max(a[i - 1][j - 1] + scored(a[0][j], a[i][0]),\n",
        "                          a[i][j - 1] + W, a[i - 1][j] + W, 0)\n",
        "            if a[i][j] > highest:\n",
        "                highest = a[i][j]\n",
        "                tempX = i\n",
        "                tempY = j\n",
        "    for i in a:\n",
        "        print(i)\n",
        "        print(\"\")\n",
        "    return (a, highest, tempX, tempY)\n",
        "#takes the completed matrix and finds the best alignment sequence \n",
        "def best_alignment():\n",
        "    container = []\n",
        "    n = filling()\n",
        "    alignment = [n[1]]\n",
        "    y = n[2]\n",
        "    x = n[3]\n",
        "    a = n[0]\n",
        "    while y > 1:\n",
        "        container.append([a[0][x],a[y][0]])       \n",
        "        tempX = x - 1\n",
        "        tempY = y - 1   \n",
        "        if (a[tempY][tempX] > a[y][tempX] and a[tempY][tempX] > a[tempY][x]):\n",
        "            x-=1\n",
        "            y-=1\n",
        "        elif (a[y][tempX] > a[tempY][tempX] and a[y][tempX] > a[tempY][x]):\n",
        "            x-=1\n",
        "        else:\n",
        "            y-=1\n",
        "    print(container)\n",
        "best_alignment()\n",
        "\n",
        " "
      ],
      "execution_count": null,
      "outputs": [
        {
          "output_type": "stream",
          "text": [
            "['-', '-', 'C', 'G', 'T', 'G', 'A', 'A', 'T', 'T', 'C', 'A', 'T']\n",
            "\n",
            "['-', 0, 0, 0, 0, 0, 0, 0, 0, 0, 0, 0, 0]\n",
            "\n",
            "['G', 0, 0, 5, 1, 5, 1, 0, 0, 0, 0, 0, 0]\n",
            "\n",
            "['A', 0, 0, 1, 2, 1, 10, 6, 2, 0, 0, 5, 1]\n",
            "\n",
            "['C', 0, 5, 1, 0, 0, 6, 7, 3, 0, 5, 1, 2]\n",
            "\n",
            "['T', 0, 1, 2, 6, 2, 2, 3, 12, 8, 4, 2, 6]\n",
            "\n",
            "['T', 0, 0, 0, 7, 3, 0, 0, 8, 17, 13, 9, 7]\n",
            "\n",
            "['A', 0, 0, 0, 3, 4, 8, 5, 4, 13, 14, 18, 14]\n",
            "\n",
            "['C', 0, 5, 1, 0, 0, 4, 5, 2, 9, 18, 14, 15]\n",
            "\n",
            "[['A', 'A'], ['C', 'A'], ['T', 'T'], ['T', 'T'], ['A', 'C'], ['A', 'A'], ['G', 'G'], ['T', 'G'], ['G', 'G']]\n"
          ],
          "name": "stdout"
        }
      ]
    }
  ]
}